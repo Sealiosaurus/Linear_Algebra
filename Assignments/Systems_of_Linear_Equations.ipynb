{
 "cells": [
  {
   "cell_type": "code",
   "execution_count": 2,
   "metadata": {},
   "outputs": [],
   "source": [
    "import numpy as np\n",
    "\n",
    "def row_swap(A, k, l):\n",
    "\n",
    "    B = np.copy(A).astype('float64')\n",
    "\n",
    "    temp_row = np.copy(B[k, :])\n",
    "    B[k, :] = B[l, :]\n",
    "    B[l, :] = temp_row\n",
    "\n",
    "    return B\n",
    "\n",
    "def row_scale(A, k, scale):\n",
    "\n",
    "    B = np.copy(A).astype('float64')\n",
    "\n",
    "    B[k, :] *= scale\n",
    "\n",
    "    return B\n",
    "\n",
    "def row_add(A, k, l, scale):\n",
    "    B = np.copy(A).astype('float64')\n",
    "\n",
    "    B[l, :] += B[k, :] * scale\n",
    "\n",
    "    return B"
   ]
  },
  {
   "cell_type": "code",
   "execution_count": 5,
   "metadata": {},
   "outputs": [
    {
     "name": "stdout",
     "output_type": "stream",
     "text": [
      "Solution vector: [-1.5  0.   4. ]\n"
     ]
    }
   ],
   "source": [
    "import numpy as np\n",
    "\n",
    "def backward_substitution(uppertri, rightVector):\n",
    "    n = uppertri.shape[0]\n",
    "    solution_vector = np.zeros(n)\n",
    "\n",
    "    for i in range(n - 1, -1, -1):\n",
    "        solution_vector[i] = rightVector[i] / uppertri[i, i]\n",
    "        for j in range(i - 1, -1, -1):\n",
    "            rightVector[j] -= uppertri[j, i] * solution_vector[i]\n",
    "\n",
    "    return solution_vector\n",
    "\n",
    "\n",
    "U = np.array([[2, -1, 3],\n",
    "              [0, 3, 2],\n",
    "              [0, 0, 4]], dtype=float)\n",
    "\n",
    "b = np.array([9, 8, 16], dtype=float)\n",
    "\n",
    "solution = backward_substitution(U, b)\n",
    "\n",
    "print(\"Solution vector:\", solution)"
   ]
  },
  {
   "cell_type": "markdown",
   "metadata": {},
   "source": [
    "ASSIGNMENT 2.2\n",
    "\n",
    "1. Provide reasons why each of the following equations is, or is not, a linear equation.\n",
    "- $\\cos{\\theta}x+4y+z = \\sqrt{3}$\n",
    "    -  cosine function and the term 4y violate linearity conditions. .<br><br>\n",
    "\n",
    "- $cos{x}4y+z = \\sqrt{3}$\n",
    "    - nonlinear due to the presence of the cosine function and y by 4.<br><br>\n",
    "\n",
    "- $x^{-1}+7y+z = \\sin{(\\frac{\\pi}{2})}$\n",
    "    - The inclusion of x −1 and the sine function violates linearity conditions<br><br>\n",
    "    \n",
    "- $x^1+y^1+z^1=0$\n",
    "    - This equation is linear, variables are raised to the first power and coefficients are 1 .<br>"
   ]
  },
  {
   "cell_type": "markdown",
   "metadata": {},
   "source": [
    "---\n",
    "2. Find the solutions to the linear equations:\n",
    "- $2x_1+3x_2 =5$\n",
    "    - $2_{x1} = 5 - 3_{x2}$\n",
    "    - $x_1 = \\frac{5 + 3_{x2}}{2}$\n",
    "    - $3_{x2} = 5 - 2_{x1}$\n",
    "    - $x_2 = \\frac{5 - 2_{x1}}{3}$\n",
    "    <br><br>\n",
    "    <br><br>\n",
    "- $4x_1+3x_2+2x_3=1$\n",
    "    - $x_2 = s,x_3 = t$\n",
    "    - $4_{x1} + 3s + 2t = 1$\n",
    "    - $\\begin{pmatrix}\n",
    "      1 & 0 & 0 &\\bigm| & \\frac{1 - 3s - 2t}{4} \\\\\n",
    "      0 & 1 & 0 &\\bigm| & s \\\\\n",
    "      0 & 0 & 1 &\\bigm| & t \\\\\n",
    "      \\end{pmatrix}$\n",
    "    <br><br>\n",
    "    <br><br>\n",
    "- $3x-6y=0$\n",
    "    - $3x = 6y$\n",
    "    - $x = \\frac{6y}{3}$\n",
    "    - $x = 2y$\n",
    "    - $6y = 3x$\n",
    "    - $y = \\frac{3x}{6}$\n",
    "    - $y = \\frac{x}{2}$\n",
    "    - $\\begin{pmatrix}\n",
    "      1 & 0 &\\bigm| & 2s \\\\\n",
    "      0 & 1 &\\bigm| & s \\\\\n",
    "      \\end{pmatrix}$\n",
    "      <br><br>"
   ]
  },
  {
   "cell_type": "markdown",
   "metadata": {},
   "source": [
    "3. Solve the following systems of linear equations:\n",
    "- $L1: x - y = 0, \\ L2: 2x + y = 3$\n",
    "    \n",
    "        - $-2(x - y = 0)$\n",
    "        - $-2x + 2y = 0$\n",
    "  \n",
    "        - $\\frac{3y}{3} = \\frac{3}{3}$\n",
    "        - $y = 1$\n",
    "   \n",
    "        - $x - 1 = 0$\n",
    "        - $x = 1$\n",
    "\n",
    "        - $x = 1, \\ y = 1$"
   ]
  },
  {
   "cell_type": "code",
   "execution_count": 6,
   "metadata": {},
   "outputs": [
    {
     "name": "stdout",
     "output_type": "stream",
     "text": [
      "Solution:\n",
      "x = 1.0\n",
      "y = 1.0\n"
     ]
    }
   ],
   "source": [
    "import numpy as np\n",
    "\n",
    "A = np.array([[1, -1], [2, 1]])\n",
    "\n",
    "b = np.array([0, 3])\n",
    "\n",
    "solution = np.linalg.solve(A, b)\n",
    "\n",
    "\n",
    "print(\"Solution:\")\n",
    "print(\"x =\", solution[0])\n",
    "print(\"y =\", solution[1])\n"
   ]
  },
  {
   "cell_type": "markdown",
   "metadata": {},
   "source": [
    "- $L1: x + 5y = -1, \\ L2: -x + y = -5, \\ L3: 2x + 4y = 4$ <br><br>\n",
    " <br><br>\n",
    "$\n",
    "\\begin{pmatrix}\n",
    "    1 & 5 &\\bigm| & -1 \\\\\n",
    "    -1 & 1 &\\bigm| & -5 \\\\\n",
    "    2 & 4 &\\bigm| & 4 \\\\\n",
    "\\end{pmatrix}\n",
    "\\xrightarrow[\\text{R}_{3} - 2\\text{R}_{1}]{\\text{R}_{2} + \\text{R}_{1}}\n",
    "\\begin{pmatrix}\n",
    "    1 & 5 &\\bigm| & -1 \\\\\n",
    "    0 & 6 &\\bigm| & -6 \\\\\n",
    "    0 & -6 &\\bigm| & 6 \\\\\n",
    "\\end{pmatrix}\n",
    "\\xrightarrow[\\text{R}_{3}(\\frac{1}{6})]{\\text{R}_{2}(\\frac{1}{6})}\n",
    "\\begin{pmatrix}\n",
    "    1 & 5 &\\bigm| & -1 \\\\\n",
    "    0 & 1 &\\bigm| & -1 \\\\\n",
    "    0 & -1 &\\bigm| & 1 \\\\\n",
    "\\end{pmatrix}\n",
    "\\xrightarrow[\\text{R}_{3} + \\text{R}_{2}]{}\n",
    "\\begin{pmatrix}\n",
    "    1 & 5 &\\bigm| & -1 \\\\\n",
    "    0 & 1 &\\bigm| & -1 \\\\\n",
    "    0 & 0 &\\bigm| & 0 \\\\\n",
    "\\end{pmatrix}\n",
    "% \\xrightarrow[\\text{R}_{1} - 5\\text{R}_{2}]{}\n",
    "% \\begin{pmatrix}\n",
    "%     1 & 0 &\\bigm| & 4 \\\\\n",
    "%     0 & 1 &\\bigm| & -1 \\\\\n",
    "%     0 & 0 &\\bigm| & 0 \\\\\n",
    "% \\end{pmatrix}\n",
    "$ \n",
    "<br><br> \n",
    "        - y = -1\n",
    "<br>\n",
    "<br>\n",
    "        - x + 5(-1) = -1\n",
    "        - x + -5 = -1\n",
    "        - x = 5 + (-1)\n",
    "        - x = 4\n",
    "        - $x = 4, \\ y = -1$"
   ]
  },
  {
   "cell_type": "code",
   "execution_count": 12,
   "metadata": {},
   "outputs": [
    {
     "name": "stdout",
     "output_type": "stream",
     "text": [
      "Solution:\n",
      "x = 4.000000000000001\n",
      "y = -0.9999999999999998\n"
     ]
    }
   ],
   "source": [
    "import numpy as np\n",
    "\n",
    "\n",
    "coeff_matrix = np.array([[1, 5], [-1, 1], [2, 4]])\n",
    "\n",
    "\n",
    "constants = np.array([-1, -5, 4])\n",
    "\n",
    "\n",
    "solution = np.linalg.lstsq(coeff_matrix, constants, rcond=None)[0]\n",
    "\n",
    "\n",
    "print(\"Solution:\")\n",
    "print(\"x =\", solution[0])\n",
    "print(\"y =\", solution[1])"
   ]
  },
  {
   "cell_type": "markdown",
   "metadata": {},
   "source": [
    "- $L1: 2x_1 + 3x_2 - x_3 = -1, L2: x_1 + x_3 = 0, L3: -x_1 + 2x_2 - 2x_3  = 0$ <br><br>\n",
    "<br><br>\n",
    "$\n",
    "\\begin{pmatrix}\n",
    "    2 & 3 & -1 &\\bigm| & -1 \\\\\n",
    "    1 & 0 & 1 &\\bigm| & 0 \\\\\n",
    "    -1 & 2 & -2 &\\bigm| & 0 \\\\\n",
    "\\end{pmatrix}\n",
    "\\xrightarrow[R_2 - R_1]{\\frac{1}{2}R_1}\n",
    "\\begin{pmatrix}\n",
    "    1 & \\frac{3}{2} & \\frac{-1}{2} &\\bigm| & \\frac{-1}{2} \\\\\n",
    "    0 & \\frac{-3}{2} & \\frac{3}{2} &\\bigm| & \\frac{1}{2}\\\\\n",
    "    -1 & 2 & -2 &\\bigm| & 0 \\\\\n",
    "\\end{pmatrix}\n",
    "\\xrightarrow[\\frac{-2}{3}R_2]{R_3 - \\frac{7}{2}R_2}\n",
    "\\begin{pmatrix}\n",
    "    1 & \\frac{3}{2} & \\frac{-1}{2} &\\bigm| & \\frac{-1}{2} \\\\\n",
    "    0 & 1 & -1 &\\bigm| & \\frac{-1}{3}\\\\\n",
    "    0 & 0 & 1 &\\bigm| & \\frac{-5}{9} \\\\\n",
    "\\end{pmatrix}\n",
    "\\xrightarrow[R_1 - \\frac{3}{2}R_2]{R_1 - \\frac{1}{3}R_2}\n",
    "\\begin{pmatrix}\n",
    "    1 & 0 & 0 &\\bigm| & 0 \\\\\n",
    "    0 & 1 & -1 &\\bigm| & \\frac{-1}{3}\\\\\n",
    "    0 & 0 & 1 &\\bigm| & \\frac{-5}{9} \\\\\n",
    "\\end{pmatrix}\n",
    "$\n",
    "<br>\n",
    " <br>\n",
    "        - x_1 = 0\n",
    "        - $x_3 = -\\frac{5}{9}$\n",
    "        - $x_2 - x_3 = -\\frac{1}{3}$ \n",
    "        - $x_2 - (-\\frac{5}{9}) = -\\frac{1}{3}$\n",
    "        - $x_2 = -\\frac{1}{3} - \\frac{5}{9}$\n",
    "        - $x_2 = -\\frac{8}{9}$\n",
    "        - $x_1 = 0, x_2 = -\\frac{8}{9}, x_3 = -\\frac{5}{9}$"
   ]
  },
  {
   "cell_type": "markdown",
   "metadata": {},
   "source": [
    "4. Provide reasons why the given matrices are either a row echelon, a reduced row echelon, or niether both.<br>\n",
    "\n",
    "a. <br>\n",
    "\\begin{pmatrix}\n",
    "   1 & 0 & 1 \\\\\n",
    "   0 & 0 & 3 \\\\\n",
    "   0 & 1 & 0 \\\\\n",
    "\\end{pmatrix}\n",
    "\n",
    "   - The matrix doesn't qualify as a row echelon form because the leading entries in the second row, which are zero, exceed those in the third row. Additionally, it fails to meet the criteria for a reduced row echelon form since fulfilling the conditions for a row echelon form is a prerequisite for it to be considered reduced.\n",
    "b. <br>\n",
    "\\begin{pmatrix}\n",
    "   7 & 0 & 1 & 0 \\\\\n",
    "   0 & 1 & -1 & 4 \\\\\n",
    "   0 & 0 & 0 & 0 \\\\\n",
    "\\end{pmatrix}\n",
    "\n",
    "   - The matrix satisfies the conditions of a row echelon form because the third row has the highest number of leading entries, and both R1 and R2 are arranged according to their leading entries.However, the matrix does not qualify as a reduced row echelon form since the leading entry in R1 is not equal to one, which is a necessary condition for it to be considered reduced.\n",
    "   \n",
    "c. <br>\n",
    "\\begin{pmatrix}\n",
    "   0 & 1 & 3 & 0 \\\\\n",
    "   0 & 0 & 0 & 1 \\\\\n",
    "\\end{pmatrix}\n",
    "\n",
    "   - The matrix is in row-echelon form, evident by the leading entries being zeros, and R2 having more leading entries than R1.\n",
    "   \n",
    "d. <br>\n",
    "\\begin{pmatrix}\n",
    "   0 & 0 & 0 \\\\\n",
    "   0 & 0 & 0 \\\\\n",
    "   0 & 0 & 0 \\\\\n",
    "\\end{pmatrix}\n",
    "\n",
    "   - The matrix is in its reduced row-echelon form, as evidenced by the arrangement of zero rows at the bottom of the matrix, and the absence of non-zero entries outside the leading entries.\n",
    "e. <br>\n",
    "\\begin{pmatrix}\n",
    "   1 & 0 & 3 & -4 & 0 \\\\\n",
    "   0 & 0 & 0 & 0 & 0 \\\\\n",
    "   0 & 1 & 5 & 0 & 1 \\\\\n",
    "\\end{pmatrix}\n",
    "\n",
    "   - The matrix does not qualify as a row echelon form because the second row (R2) has more leading entries, which are represented as zero, compared to the third row (R3), and they should be organized differently. Additionally, the matrix cannot be considered a reduced row echelon form if it does not adhere to the conditions set for a row echelon form.\n",
    "\n",
    "f. <br>\n",
    "\\begin{pmatrix}\n",
    "   0 & 0 & 1 \\\\\n",
    "   0 & 1 & 0 \\\\\n",
    "   1 & 0 & 0 \\\\\n",
    "\\end{pmatrix}\n",
    "\n",
    "   - The matrix fails to meet the criteria for both row echelon form and reduced row echelon form. Specifically, the leading entries of rows above are not positioned to the left of those below, violating the conditions for both echelon forms.\n",
    "\n",
    "g. <br>\n",
    "\\begin{pmatrix}\n",
    "   1 & 2 & 3 \\\\\n",
    "   1 & 0 & 0 \\\\\n",
    "   0 & 1 & 1 \\\\\n",
    "   0 & 0 & 1 \\\\\n",
    "\\end{pmatrix}\n",
    "\n",
    "   - The matrix doesn't adhere to either the row echelon form or the reduced row echelon form, as there are instances where leading non-zero entries are situated alongside zeroes, particularly evident in R2.\n",
    "\n",
    "h. <br>\n",
    "\\begin{pmatrix}\n",
    "   2 & 1 & 3 & 5 \\\\\n",
    "   0 & 0 & 1 & -1 \\\\\n",
    "   0 & 0 & 0 & 3 \\\\\n",
    "   0 & 0 & 0 & 0 \\\\\n",
    "\\end{pmatrix}\n",
    "\n",
    "   - The matrix is in row echelon form as the leading entries of R2 are less than R3, and R3 is less than R4. However, it cannot be considered in reduced row echelon form because the leading entry of R1 is neither one nor zero."
   ]
  },
  {
   "cell_type": "markdown",
   "metadata": {},
   "source": [
    "---\n",
    "5 Solve the following systems of linear equations"
   ]
  },
  {
   "cell_type": "markdown",
   "metadata": {},
   "source": [
    "a.<br> \n",
    "<br>\n",
    "$\n",
    " \\begin{equation}\n",
    "    \\begin{bmatrix}\n",
    "        1 & 2 & -3| 9\\\\\n",
    "        2 & -1 & -1| 0\\\\\n",
    "        4 & -1 & 1| 4\\\\\n",
    "    \\end{bmatrix}\n",
    "    \\xrightarrow[R_2 - 2R_1]{R_3 - 2R_2}\n",
    "    \\begin{bmatrix}\n",
    "        1 & 2 & -3| 9\\\\\n",
    "        0 & -5 & 5| 18\\\\\n",
    "        0 & 1 & 3| 4\\\\\n",
    "    \\end{bmatrix}\n",
    "    \\xrightarrow[R_3 - R_2]{\\frac{-1}{5}R_2}   \n",
    "    \\begin{bmatrix}\n",
    "        1 & 2 & -3| 9\\\\\n",
    "        0 & 1 & -1| \\frac{18}{5}\\\\\n",
    "        0 & 0 & 4| \\frac{1}{4}R_3\\\\\n",
    "    \\end{bmatrix}\n",
    "    \\xrightarrow[R_1 - 2R_2]{R_2 + R_3}   \n",
    "    \\begin{bmatrix}\n",
    "        1 & 0 & -3| \\frac{8}{5}\\\\\n",
    "        0 & 1 & 0| \\frac{37}{10}\\\\\n",
    "        0 & 0 & 1| \\frac{1}{10}R_3\\\\\n",
    "    \\end{bmatrix}   \n",
    "    \\xrightarrow[]{R_1 + 3R_3} \n",
    "    \\begin{bmatrix}\n",
    "        1 & 0 & 0| \\frac{19}{10}\\\\\n",
    "        0 & 1 & 0| \\frac{37}{10}\\\\\n",
    "        0 & 0 & 1| \\frac{1}{10}R_3\\\\\n",
    "    \\end{bmatrix}      \n",
    "\\end{equation}\n",
    "$\n",
    "<br>\n",
    "- $x_1 = \\frac{19}{10}$<br>\n",
    "- $x_2 = \\frac{37}{10}$<br>\n",
    "- $x_3 = \\frac{1}{10}$<br>\n",
    "- $2x_1 - x_2 - x_3 = 0$<br>\n",
    "- $\\frac{19}{5} - \\frac{37}{10} - \\frac{1}{10} = 0$<br>"
   ]
  },
  {
   "cell_type": "code",
   "execution_count": 7,
   "metadata": {},
   "outputs": [
    {
     "name": "stdout",
     "output_type": "stream",
     "text": [
      "x1 = 1.9\n",
      "x2 = 3.6999999999999997\n",
      "x3 = 0.10000000000000003\n"
     ]
    }
   ],
   "source": [
    "import numpy as np\n",
    "\n",
    "\n",
    "A = np.array([[1, 2, -3],\n",
    "              [2, -1, -1],\n",
    "              [4, -1, 1]])\n",
    "\n",
    "b = np.array([9, 0, 4])\n",
    "\n",
    "solution = np.linalg.solve(A, b)\n",
    "\n",
    "print(f\"x1 = {solution[0]}\")\n",
    "print(f\"x2 = {solution[1]}\")\n",
    "print(f\"x3 = {solution[2]}\")\n",
    "\n"
   ]
  },
  {
   "cell_type": "markdown",
   "metadata": {},
   "source": [
    "b. <br>\n",
    "<br>\n",
    "$\n",
    " \\begin{equation}\n",
    "    \\begin{bmatrix}\n",
    "        1 & 2 & 0| -1\\\\\n",
    "        2 & 1 & 1| 1\\\\\n",
    "        -1 & 1 & -1| -1\\\\\n",
    "    \\end{bmatrix}\n",
    "    \\xrightarrow[R_3 + R_2]{\\frac{1}{2}R_2}\n",
    "    \\begin{bmatrix}\n",
    "        1 & 2 & 0| -1\\\\\n",
    "        0 & \\frac{1}{2} & \\frac{1}{2}| \\frac{1}{2}\\\\\n",
    "        0 & \\frac{3}{2} & \\frac{-1}{2}| \\frac{-1}{2}\\\\\n",
    "    \\end{bmatrix}\n",
    "    \\xrightarrow[R_3 - R_2]{\\frac{-1}{5}R_2}   \n",
    "    \\begin{bmatrix}\n",
    "        1 & 2 & -3| 9\\\\\n",
    "        0 & 1 & -1| \\frac{18}{5}\\\\\n",
    "        0 & 0 & 4| \\frac{1}{4}R_3\\\\\n",
    "    \\end{bmatrix}\n",
    "    \\xrightarrow[R_3 + R_2]{R_2 - R_1}   \n",
    "    \\begin{bmatrix}\n",
    "        1 & 0 & -3| \\frac{8}{5}\\\\\n",
    "        0 & 1 & 0| \\frac{37}{10}\\\\\n",
    "        0 & 0 & 1| \\frac{1}{10}R_3\\\\\n",
    "    \\end{bmatrix}   \n",
    "\\end{equation}\n",
    "$\n",
    "- 0 + 0 + 0 cannot equal to one"
   ]
  },
  {
   "cell_type": "code",
   "execution_count": 8,
   "metadata": {},
   "outputs": [
    {
     "name": "stdout",
     "output_type": "stream",
     "text": [
      "Determinant of M: 0.0\n",
      "If determinant is zero, then no solution\n"
     ]
    }
   ],
   "source": [
    "import numpy as np\n",
    "\n",
    "\n",
    "M = np.array([[1, 2, 0],\n",
    "              [2, 1, 1],\n",
    "              [-1, 1, -1]])\n",
    "\n",
    "det_M = np.linalg.det(M)\n",
    "\n",
    "print(\"Determinant of M:\", det_M)\n",
    "print(\"If determinant is zero, then no solution\")"
   ]
  },
  {
   "cell_type": "markdown",
   "metadata": {},
   "source": [
    "c. <br>\n",
    "<br>\n",
    "$\n",
    " \\begin{equation}\n",
    "    \\begin{bmatrix}\n",
    "        1 & -3 & 2| 0\\\\\n",
    "        1 & 2 & 1| 0\\\\\n",
    "        2 & 4 & 6| 0\\\\\n",
    "    \\end{bmatrix}\n",
    "\\end{equation}\n",
    "$\n",
    "- x_1 = 0, x_2 = 0, x_3 = 0\n",
    "- x_1 - 3x_2 - 2x_3 = 0 \n",
    "- 0 - 3(0) - 2(0) = 0\n",
    "- 0\n",
    "- x_1 + 2x_2 + x_3 = 0\n",
    "- 0 + 2(0) + 0 = 0\n",
    "- 0\n",
    "- 2x_1 + 4x_2 + 6x_3 = 0\n",
    "- 2(0) + 4(0) + 6(0) = 0\n",
    "- 0"
   ]
  },
  {
   "cell_type": "markdown",
   "metadata": {},
   "source": [
    "d. <br>\n",
    "<br>\n",
    "$\n",
    " \\begin{equation}\n",
    "    \\begin{bmatrix}\n",
    "        1 & 1 & 2 & 1| 1\\\\\n",
    "        1 & -1 & -1 & 1| 0\\\\\n",
    "        0 & 1 & 1 & 0| 1\\\\\n",
    "        1 & 1 & 0 & 1| 2\\\\\n",
    "    \\end{bmatrix}\n",
    "    \\xrightarrow[R_4 - R_1]{R_2 - R_1}\n",
    "    \\begin{bmatrix}\n",
    "        1 & 1 & 2 & 1| 1\\\\\n",
    "        0 & -2 & -3 & 0| 1\\\\\n",
    "        0 & 1 & 1 & 0| 1\\\\\n",
    "        0 & 0 & -2 & 1| 1\\\\\n",
    "    \\end{bmatrix}\n",
    "    \\xrightarrow[R_3 + 2R_2]{R_2 <-> R_3}   \n",
    "    \\begin{bmatrix}\n",
    "        1 & 1 & 2 & 1| 1\\\\\n",
    "        0 & 1 & 1 & 0| 1\\\\\n",
    "        0 & 0 & -1 & 0| 3\\\\\n",
    "        0 & 0 & -2 & 1| 1\\\\\n",
    "    \\end{bmatrix}\n",
    "\\end{equation}\n",
    "$\n",
    "- y cannot be both 3 and $\\frac{1}{-2}$, so there is no unique solution"
   ]
  },
  {
   "cell_type": "code",
   "execution_count": 9,
   "metadata": {},
   "outputs": [
    {
     "name": "stdout",
     "output_type": "stream",
     "text": [
      "Determinant of M: 0.0\n",
      "If determinant is zero, then solution\n"
     ]
    }
   ],
   "source": [
    "import numpy as np\n",
    "\n",
    "\n",
    "M = np.array([[1, 1, 2, 1],\n",
    "              [1, -1, -1, 1],\n",
    "              [0, 1, 1, 0],\n",
    "              [1, 1, 0, 1]])\n",
    "\n",
    "\n",
    "det_M = np.linalg.det(M)\n",
    "\n",
    "print(\"Determinant of M:\", det_M)\n",
    "print(\"If determinant is zero, then solution\")"
   ]
  },
  {
   "cell_type": "markdown",
   "metadata": {},
   "source": [
    "---"
   ]
  },
  {
   "cell_type": "markdown",
   "metadata": {},
   "source": [
    "6. Determine if the vectors are linear combinations<br>"
   ]
  },
  {
   "cell_type": "markdown",
   "metadata": {},
   "source": [
    "a. <br>\n",
    "$\n",
    " \\begin{equation}\n",
    "    \\textbf{v} = \\begin{bmatrix} 1 \\\\ 2 \\end{bmatrix} \\ \n",
    "    \\textbf{u}_2 = \\begin{bmatrix} -1 \\\\ 3 \\end{bmatrix}\\\n",
    "    \\textbf{u}_3 = \\begin{bmatrix} 2 \\\\ -6 \\end{bmatrix}\\\\\n",
    "\\end{equation}\n",
    "$\n",
    "<br>\n",
    "$\n",
    "\\begin{equation}\n",
    "    \\begin{bmatrix} 1 \\\\ 2 \\end{bmatrix}x +\n",
    "    \\begin{bmatrix} -1 \\\\ 3 \\end{bmatrix}y =\n",
    "    \\begin{bmatrix} 2 \\\\ -6 \\end{bmatrix}\n",
    "\\end{equation}\n",
    "$\n",
    "<br>\n",
    "<br>\n",
    "$\n",
    "\\begin{equation}\n",
    "    \\begin{bmatrix}\n",
    "        -1 & 2 & 1 \\\\\n",
    "        3 & -6 & 2\n",
    "    \\end{bmatrix}\n",
    "    \\xrightarrow[]{\\text{R}_{2} + 3\\text{R}_{1}}\n",
    "    \\begin{bmatrix}\n",
    "        -1 & 2 & 1 \\\\\n",
    "        0 & 0 & 5\n",
    "    \\end{bmatrix}\n",
    "\\end{equation}\n",
    "$\n",
    "<br>\n",
    "<br>- not a linear combination.<br>"
   ]
  },
  {
   "cell_type": "code",
   "execution_count": 10,
   "metadata": {},
   "outputs": [
    {
     "name": "stdout",
     "output_type": "stream",
     "text": [
      "The vectors are linearly independent.\n"
     ]
    }
   ],
   "source": [
    "import numpy as np\n",
    "\n",
    "\n",
    "v = np.array([1, 2])\n",
    "u2 = np.array([-1, 3])\n",
    "u3 = np.array([2, -6])\n",
    "\n",
    "coeff_matrix = np.vstack((u2, u3)).T\n",
    "constants = v\n",
    "\n",
    "\n",
    "if np.linalg.matrix_rank(coeff_matrix) == np.linalg.matrix_rank(np.vstack((coeff_matrix, constants)).T):\n",
    "    print(\"The vectors are linearly dependent.\")\n",
    "else:\n",
    "    print(\"The vectors are linearly independent.\")\n"
   ]
  },
  {
   "cell_type": "markdown",
   "metadata": {},
   "source": [
    "b. <br>\n",
    "$\n",
    " \\begin{equation}\n",
    "    \\textbf{v} = \\begin{bmatrix} 1 \\\\ 2 \\\\ 3 \\end{bmatrix} \\ \n",
    "    \\textbf{u}_2 = \\begin{bmatrix} 1 \\\\ 1 \\\\ 0 \\end{bmatrix}\\\n",
    "    \\textbf{u}_3 = \\begin{bmatrix} 0 \\\\ 1 \\\\ 1 \\end{bmatrix}\\\\\n",
    "\\end{equation}\n",
    "$\n",
    "<br>\n",
    "$\n",
    " \\begin{equation}\n",
    "    \\begin{bmatrix}\n",
    "        1 & 0 | 1\\\\\n",
    "        1 & 1 | 2\\\\\n",
    "        0 & 1 | 3\\\\\n",
    "    \\end{bmatrix}\n",
    "    \\xrightarrow[]{R_2 - x + 2_y = -12_x + y + z = 1 - x + y - z = -1}\n",
    "    \\begin{bmatrix}\n",
    "        1 & 0 | 1\\\\\n",
    "        1 & 1 | 1\\\\\n",
    "        0 & 1 | 3\\\\\n",
    "    \\end{bmatrix}\n",
    "    \\xrightarrow[]{R_3 - R_2}   \n",
    "    \\begin{bmatrix}\n",
    "        1 & 0 | 1\\\\\n",
    "        0 & 1 | 1\\\\\n",
    "        0 & 0 | 2\\\\\n",
    "    \\end{bmatrix}\n",
    "\\end{equation}\n",
    "$\n",
    "<br>- not a linear combination.<br>"
   ]
  },
  {
   "cell_type": "code",
   "execution_count": 1,
   "metadata": {},
   "outputs": [
    {
     "name": "stdout",
     "output_type": "stream",
     "text": [
      "The vector is not a linear combination.\n"
     ]
    }
   ],
   "source": [
    "import numpy as np\n",
    "\n",
    "# Define the vectors\n",
    "v = np.array([1, 2, 3])\n",
    "u2 = np.array([1, 1, 0])\n",
    "u3 = np.array([0, 1, 1])\n",
    "\n",
    "# Create the coefficient matrix and the constant vector\n",
    "coeff_matrix = np.vstack((u2, u3)).T\n",
    "constants = v\n",
    "\n",
    "# Check if there is a solution\n",
    "if np.linalg.matrix_rank(coeff_matrix) == np.linalg.matrix_rank(np.column_stack((coeff_matrix, constants))):\n",
    "    print(\"The vector is a linear combination.\")\n",
    "else:\n",
    "    print(\"The vector is not a linear combination.\")"
   ]
  },
  {
   "cell_type": "markdown",
   "metadata": {},
   "source": [
    "c. <br>\n",
    "$\n",
    " \\begin{equation}\n",
    "    \\textbf{v} = \\begin{bmatrix} 3 \\\\ 1 \\\\ -2 \\end{bmatrix} \\ \n",
    "    \\textbf{u}_2 = \\begin{bmatrix} 1 \\\\ 1 \\\\ 0 \\end{bmatrix}\\\n",
    "    \\textbf{u}_3 = \\begin{bmatrix} 0 \\\\ 1 \\\\ 1 \\end{bmatrix}\\\\\n",
    "\\end{equation}\n",
    "$\n",
    "<br>\n",
    "$\n",
    "\\begin{equation}\n",
    "    \\begin{bmatrix} 1 \\\\ 1 \\\\ 0\\end{bmatrix}x +\n",
    "    \\begin{bmatrix} 0 \\\\ 1 \\\\ 1\\end{bmatrix}y =\n",
    "    \\begin{bmatrix} 3 \\\\ 1 \\\\ -2\\end{bmatrix}\n",
    "\\end{equation}\n",
    "$\n",
    "<br>\n",
    "$\n",
    "\\begin{equation}\n",
    "    \\begin{bmatrix}\n",
    "        1 & 0 & 3 \\\\\n",
    "        1 & 1 & 1 \\\\\n",
    "        0 & 1 & -2\\\\\n",
    "    \\end{bmatrix}\n",
    "    x = 3,y = -2,x + y = 1x + y = 1 \\xrightarrow[]{} 3 - 2 = 1\n",
    "\\end{equation}\n",
    "$\n",
    "<br>\n",
    "$\n",
    "\\begin{equation}\n",
    "    \\begin{bmatrix} 3 \\\\ 3 \\\\ 0\\end{bmatrix} +\n",
    "    \\begin{bmatrix} 0 \\\\ -2 \\\\ -2\\end{bmatrix} =\n",
    "    \\begin{bmatrix} 3 \\\\ 1 \\\\ -2\\end{bmatrix}\n",
    "\\end{equation}\n",
    "$\n",
    "<br>- a linear combination.<br>"
   ]
  },
  {
   "cell_type": "code",
   "execution_count": 11,
   "metadata": {},
   "outputs": [
    {
     "name": "stdout",
     "output_type": "stream",
     "text": [
      "The vector is a linear combination.\n"
     ]
    }
   ],
   "source": [
    "import numpy as np\n",
    "\n",
    "# Define the vectors\n",
    "v = np.array([3, 1, -2])\n",
    "u2 = np.array([0, -2, -2])\n",
    "u3 = np.array([3, 1, -2])\n",
    "\n",
    "# Create the coefficient matrix and the constant vector\n",
    "coeff_matrix = np.vstack((u2, u3)).T\n",
    "constants = v\n",
    "\n",
    "# Check if there is a solution\n",
    "if np.linalg.matrix_rank(coeff_matrix) == np.linalg.matrix_rank(np.column_stack((coeff_matrix, constants))):\n",
    "    print(\"The vector is a linear combination.\")\n",
    "else:\n",
    "    print(\"The vector is not a linear combination.\")"
   ]
  },
  {
   "cell_type": "markdown",
   "metadata": {},
   "source": [
    "---"
   ]
  },
  {
   "cell_type": "markdown",
   "metadata": {},
   "source": [
    "7. Show that the following vectors are a span: <br>"
   ]
  },
  {
   "cell_type": "markdown",
   "metadata": {},
   "source": [
    "a.<br>\n",
    "$\n",
    "span\\begin{pmatrix}\n",
    "\\begin{bmatrix}1 \\\\ 1 \\\\ \\end{bmatrix}\n",
    "\\begin{bmatrix}1 \\\\ -1 \\\\ \\end{bmatrix}\n",
    "\\end{pmatrix}\n",
    "$\n",
    "<br><br>\n",
    "$\n",
    " \\begin{equation}\n",
    "    \\begin{bmatrix}\n",
    "        1 & 1 | x\\\\\n",
    "        1 & -1 | y\\\\\n",
    "    \\end{bmatrix}\n",
    "    \\xrightarrow[]{}\n",
    "    \\begin{bmatrix}\n",
    "        1 & 1 | x | R_1\\\\\n",
    "        1 & -1 | y | R_2\\\\\n",
    "    \\end{bmatrix}\n",
    "    \\xrightarrow[R_2 - R_1]{\\frac{1}{-2}R_2}\n",
    "    \\begin{bmatrix}\n",
    "        1 & 1 | x | R_1\\\\\n",
    "        0 & 1 | y | \\frac{1}{-2}R_2\\\\\n",
    "    \\end{bmatrix}\n",
    "\\end{equation}\n",
    "$\n",
    "- vectors are a span\n",
    "<br><br>"
   ]
  },
  {
   "cell_type": "code",
   "execution_count": 4,
   "metadata": {},
   "outputs": [
    {
     "name": "stdout",
     "output_type": "stream",
     "text": [
      "The vectors span the space.\n"
     ]
    }
   ],
   "source": [
    "import numpy as np\n",
    "\n",
    "v1 = np.array([1, 1])\n",
    "v2 = np.array([1, -1])\n",
    "\n",
    "arbitrary_vector = np.array([2, 3])\n",
    "\n",
    "coeff_matrix = np.vstack((v1, v2)).T\n",
    "constants = arbitrary_vector\n",
    "\n",
    "coefficients = np.linalg.solve(coeff_matrix, constants)\n",
    "\n",
    "if np.allclose(np.dot(coeff_matrix, coefficients), constants):\n",
    "    print(\"The vectors span the space.\")\n",
    "else:\n",
    "    print(\"The vectors do not span the space.\")"
   ]
  },
  {
   "cell_type": "markdown",
   "metadata": {},
   "source": [
    "b.<br>\n",
    "$\n",
    "span\\begin{pmatrix}\n",
    "\\begin{bmatrix}1 \\\\ 0 \\\\ 1\\end{bmatrix}\n",
    "\\begin{bmatrix}1 \\\\ 1 \\\\ 0\\end{bmatrix}\n",
    "\\begin{bmatrix}0 \\\\ 1 \\\\ 1\\end{bmatrix}\n",
    "\\end{pmatrix}\n",
    "$\n",
    "<br><br>\n",
    "$\n",
    " \\begin{equation}\n",
    "    \\begin{bmatrix}\n",
    "        1 & 1 & 0| x\\\\\n",
    "        0 & 1 & 1| y\\\\\n",
    "        1 & 0 & 1| z\\\\\n",
    "    \\end{bmatrix}\n",
    "    \\xrightarrow[]{R_3 - R_1}\n",
    "    \\begin{bmatrix}\n",
    "        1 & 1 & 0| x\\\\\n",
    "        0 & 1 & 1| y\\\\\n",
    "        0 & -1 & 1| z - x\\\\\n",
    "    \\end{bmatrix}\n",
    "    \\xrightarrow[]{R_3 + R_2}   \n",
    "    \\begin{bmatrix}\n",
    "        1 & 1 & 0| x\\\\\n",
    "        0 & 1 & 1| y\\\\\n",
    "        0 & 0 & 2| y - x + z\\\\\n",
    "    \\end{bmatrix}\n",
    "\\end{equation}\n",
    "$\n",
    "- The following vectors are a span\n",
    "<br>"
   ]
  },
  {
   "cell_type": "code",
   "execution_count": 3,
   "metadata": {},
   "outputs": [
    {
     "name": "stdout",
     "output_type": "stream",
     "text": [
      "The vectors span the space.\n"
     ]
    }
   ],
   "source": [
    "import numpy as np\n",
    "\n",
    "v1 = np.array([1, 0, 1])\n",
    "v2 = np.array([1, 1, 0])\n",
    "v3 = np.array([0, 1, 1])\n",
    "\n",
    "arbitrary_vector = np.array([2, 3, 4])\n",
    "\n",
    "coeff_matrix = np.vstack((v1, v2, v3)).T\n",
    "constants = arbitrary_vector\n",
    "\n",
    "coefficients = np.linalg.solve(coeff_matrix, constants)\n",
    "\n",
    "if np.allclose(np.dot(coeff_matrix, coefficients), constants):\n",
    "    print(\"The vectors are linearly independent.\")\n",
    "else:\n",
    "    print(\"The vectors are linearly dependent.\")\n"
   ]
  },
  {
   "cell_type": "markdown",
   "metadata": {},
   "source": [
    "c.<br>\n",
    "$\n",
    "span\\begin{pmatrix}\n",
    "\\begin{bmatrix}1 \\\\ 0 \\\\ 1\\end{bmatrix}\n",
    "\\begin{bmatrix}1 \\\\ 1 \\\\ 0\\end{bmatrix}\n",
    "\\begin{bmatrix}0 \\\\ 1 \\\\ 1\\end{bmatrix}\n",
    "\\end{pmatrix}\n",
    "$\n",
    "<br><br>\n",
    "$\n",
    " \\begin{equation}\n",
    "    \\begin{bmatrix}\n",
    "        1 & 1 & 0| x\\\\\n",
    "        0 & 1 & 1| y\\\\\n",
    "        1 & 0 & 1| z\\\\\n",
    "    \\end{bmatrix}\n",
    "    \\xrightarrow[]{R_3 - R_1}\n",
    "    \\begin{bmatrix}\n",
    "        1 & 1 & 0| x\\\\\n",
    "        0 & 1 & 1| y\\\\\n",
    "        0 & -1 & 1| z - x\\\\\n",
    "    \\end{bmatrix}\n",
    "    \\xrightarrow[]{R_3 + R_2}   \n",
    "    \\begin{bmatrix}\n",
    "        1 & 1 & 0| x\\\\\n",
    "        0 & 1 & 1| y\\\\\n",
    "        0 & 0 & 2| y - x + z\\\\\n",
    "    \\end{bmatrix}\n",
    "\\end{equation}\n",
    "$\n",
    "- vectors are a span"
   ]
  },
  {
   "cell_type": "code",
   "execution_count": 2,
   "metadata": {},
   "outputs": [
    {
     "name": "stdout",
     "output_type": "stream",
     "text": [
      "The vectors span the space.\n"
     ]
    }
   ],
   "source": [
    "import numpy as np\n",
    "\n",
    "# Define the vectors\n",
    "v1 = np.array([1, 0, 1])\n",
    "v2 = np.array([1, 1, 0])\n",
    "v3 = np.array([0, 1, 1])\n",
    "\n",
    "arbitrary_vector = np.array([2, 3, 4])\n",
    "\n",
    "coeff_matrix = np.vstack((v1, v2, v3)).T\n",
    "constants = arbitrary_vector\n",
    "\n",
    "coefficients = np.linalg.solve(coeff_matrix, constants)\n",
    "\n",
    "if np.allclose(np.dot(coeff_matrix, coefficients), constants):\n",
    "    print(\"The vectors span the space.\")\n",
    "else:\n",
    "    print(\"The vectors do not span the space.\")\n"
   ]
  },
  {
   "cell_type": "markdown",
   "metadata": {},
   "source": [
    "---"
   ]
  },
  {
   "cell_type": "markdown",
   "metadata": {},
   "source": [
    "8. Show that the following vectors are linearly independent:<br><br>"
   ]
  },
  {
   "cell_type": "markdown",
   "metadata": {},
   "source": [
    "a. <br>\n",
    "$\n",
    "\\begin{equation}\n",
    "\\begin{bmatrix} 3 \\\\ -1 \\\\ 1 \\\\ -1 \\end{bmatrix}\n",
    "\\begin{bmatrix} -1 \\\\ 2 \\\\ 1 \\\\ -1 \\end{bmatrix}\n",
    "\\begin{bmatrix} 1 \\\\ 1 \\\\ 3 \\\\ 1 \\end{bmatrix}\n",
    "\\begin{bmatrix} -1 \\\\ -1 \\\\ 1 \\\\ 3 \\end{bmatrix}\n",
    "\\end{equation}\n",
    "$\n",
    "- the following vectors are linearly independent. <br>"
   ]
  },
  {
   "cell_type": "code",
   "execution_count": 3,
   "metadata": {},
   "outputs": [
    {
     "name": "stdout",
     "output_type": "stream",
     "text": [
      "Vectors are linearly independent.\n"
     ]
    }
   ],
   "source": [
    "import numpy as np\n",
    "\n",
    "def check_linear_independence(vectors):\n",
    "    augmented_matrix = np.column_stack((vectors, np.zeros((len(vectors), 1))))\n",
    "\n",
    "    is_linearly_independent = np.linalg.matrix_rank(vectors) == np.linalg.matrix_rank(augmented_matrix)\n",
    "\n",
    "    return is_linearly_independent\n",
    "\n",
    "# Given vectors\n",
    "v1 = np.array([0, 0, 0, 1])\n",
    "v2 = np.array([0, 0, 2, 1])\n",
    "v3 = np.array([0, 3, 2, 1])\n",
    "v4 = np.array([4, 3, 2, 1])\n",
    "\n",
    "\n",
    "vector_matrix = np.column_stack((v1, v2, v3, v4))\n",
    "\n",
    "\n",
    "result = check_linear_independence(vector_matrix)\n",
    "\n",
    "if result:\n",
    "    print(\"Vectors are linearly independent.\")\n",
    "else:\n",
    "    print(\"Vectors are not linearly independent.\")\n"
   ]
  },
  {
   "cell_type": "markdown",
   "metadata": {},
   "source": [
    "b. <br>\n",
    "$\n",
    "\\begin{equation}\n",
    "\\begin{bmatrix} 0 \\\\ 0 \\\\ 0 \\\\ 1 \\end{bmatrix}\n",
    "\\begin{bmatrix} 0 \\\\ 0 \\\\ 2 \\\\ 1 \\end{bmatrix}\n",
    "\\begin{bmatrix} 0 \\\\ 3 \\\\ 2 \\\\ 1 \\end{bmatrix}\n",
    "\\begin{bmatrix} 4 \\\\ 3 \\\\ 2 \\\\ 1 \\end{bmatrix}\n",
    "\\end{equation}\n",
    "$\n",
    "- L1: 4z = 0; z = 0\n",
    "- L2: 3w + 3z; w = 0\n",
    "- L3: 2y + 2w + 2z = 0; y = 0\n",
    "- L4: x + 0 + 0 + 0 = 0; x = 0\n",
    "- Therefore, the vectors are linearly independent by condition 1."
   ]
  },
  {
   "cell_type": "code",
   "execution_count": 4,
   "metadata": {},
   "outputs": [
    {
     "name": "stdout",
     "output_type": "stream",
     "text": [
      "Vectors are linearly independent.\n"
     ]
    }
   ],
   "source": [
    "import numpy as np\n",
    "\n",
    "def check_linear_independence(vectors):\n",
    "\n",
    "    augmented_matrix = np.column_stack((vectors, np.zeros((len(vectors), 1))))\n",
    "\n",
    "\n",
    "    is_linearly_independent = np.linalg.matrix_rank(vectors) == np.linalg.matrix_rank(augmented_matrix)\n",
    "\n",
    "    return is_linearly_independent\n",
    "\n",
    "\n",
    "v1 = np.array([0, 0, 0, 4])\n",
    "v2 = np.array([0, 0, 3, 3])\n",
    "v3 = np.array([0, 2, 2, 2])\n",
    "v4 = np.array([1, 1, 1, 1])\n",
    "\n",
    "\n",
    "vector_matrix = np.column_stack((v1, v2, v3, v4))\n",
    "\n",
    "\n",
    "result = check_linear_independence(vector_matrix)\n",
    "\n",
    "if result:\n",
    "    print(\"Vectors are linearly independent.\")\n",
    "else:\n",
    "    print(\"Vectors are not linearly independent.\")\n"
   ]
  },
  {
   "cell_type": "markdown",
   "metadata": {},
   "source": [
    "c. <br>\n",
    "$\n",
    "\\begin{equation}\n",
    "\\begin{bmatrix} 1 \\\\ -1 \\\\ 1 \\\\ 0 \\end{bmatrix}\n",
    "\\begin{bmatrix} -1 \\\\ 1 \\\\ 0 \\\\ 1 \\end{bmatrix}\n",
    "\\begin{bmatrix} 1 \\\\ 0 \\\\ 1 \\\\ -1 \\end{bmatrix}\n",
    "\\begin{bmatrix} 0 \\\\ 1 \\\\ -1 \\\\ 1 \\end{bmatrix}\n",
    "\\end{equation}\n",
    "$\n",
    "- M = 4 & N = 4. are linearly independent by condidtion 4"
   ]
  },
  {
   "cell_type": "code",
   "execution_count": 11,
   "metadata": {},
   "outputs": [
    {
     "name": "stdout",
     "output_type": "stream",
     "text": [
      "Vectors are linearly independent.\n"
     ]
    }
   ],
   "source": [
    "import numpy as np\n",
    "\n",
    "def check_linear_independence(vectors):\n",
    "    augmented_matrix = np.column_stack((vectors, np.zeros((len(vectors), 1))))\n",
    "    is_linearly_independent = np.linalg.matrix_rank(vectors) == np.linalg.matrix_rank(augmented_matrix)\n",
    "    return is_linearly_independent\n",
    "\n",
    "# Given vectors\n",
    "v1 = np.array([1, -1, 1, 0])\n",
    "v2 = np.array([-1, 1, 0, 1])\n",
    "v3 = np.array([1, 0, 1, -1])\n",
    "v4 = np.array([0, 1, -1, 1])\n",
    "\n",
    "# Organize vectors into a matrix\n",
    "vector_matrix = np.column_stack((v1, v2, v3, v4))\n",
    "\n",
    "# Check linear independence\n",
    "result = check_linear_independence(vector_matrix)\n",
    "\n",
    "# Print the result\n",
    "if result:\n",
    "    print(\"Vectors are linearly independent.\")\n",
    "else:\n",
    "    print(\"Vectors are not linearly independent.\")\n"
   ]
  },
  {
   "cell_type": "code",
   "execution_count": null,
   "metadata": {},
   "outputs": [],
   "source": []
  }
 ],
 "metadata": {
  "kernelspec": {
   "display_name": "Python 3 (ipykernel)",
   "language": "python",
   "name": "python3"
  },
  "language_info": {
   "codemirror_mode": {
    "name": "ipython",
    "version": 3
   },
   "file_extension": ".py",
   "mimetype": "text/x-python",
   "name": "python",
   "nbconvert_exporter": "python",
   "pygments_lexer": "ipython3",
   "version": "3.11.4"
  }
 },
 "nbformat": 4,
 "nbformat_minor": 2
}
