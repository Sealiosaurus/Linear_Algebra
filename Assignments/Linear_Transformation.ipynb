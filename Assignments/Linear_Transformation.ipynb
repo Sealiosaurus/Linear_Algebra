{
 "cells": [
  {
   "cell_type": "markdown",
   "metadata": {},
   "source": [
    "# Assignment (Code Challenges)\n",
    "\n",
    "**1. Develop a python function from scratch that will find the determinants of any $n$ x $n$ matrix.**"
   ]
  },
  {
   "cell_type": "code",
   "execution_count": 17,
   "metadata": {},
   "outputs": [],
   "source": [
    "def find_det(A):\n",
    "    assert len(A) == 0 or all(type(row) == list for row in A) and len(A) == len(A[0]), \"A should be a square matrix.\"\n",
    "    \n",
    "    n = len(A)\n",
    "    if   n == 0: return 1.\n",
    "    elif n == 1: return A[0][0]\n",
    "    elif n == 2: return A[0][0] * A[1][1] - A[0][1] * A[1][0] \n",
    "\n",
    "    det = 0.\n",
    "    for col, cofactor in enumerate(A[0]):\n",
    "        minor = [[A[i][j] for j in range(n) if j != col] for i in range(1, n)]\n",
    "        det += (-1) ** col * cofactor * find_det(minor)\n",
    "\n",
    "    return det"
   ]
  },
  {
   "cell_type": "markdown",
   "metadata": {},
   "source": [
    "**2. Develop a python function from scratch that will find both the eigenvectors and eigenvalues of any $n$ x $n$ matrix.**"
   ]
  },
  {
   "cell_type": "code",
   "execution_count": 19,
   "metadata": {},
   "outputs": [],
   "source": [
    "def find_eigen(A, max_iterations = 50000):\n",
    "    assert len(A) == 0 or all(type(row) == list for row in A) and len(A) == len(A[0]), \"A should be a square matrix.\"\n",
    "\n",
    "    n = len(A) \n",
    "    if n == 0: return [], []\n",
    "    if n == 1: return [A[0][0]], [[1.]]\n",
    "\n",
    "    eigenvectors = []\n",
    "    eigenvalues = []\n",
    "\n",
    "    for _ in range(n):\n",
    "        eigvec = [random.random() for _ in range(n)]\n",
    "        norm_eigvec = sum(a ** 2 for a in eigvec) ** 0.5\n",
    "        eigvec = [a / norm_eigvec for a in eigvec]\n",
    "\n",
    "        for _ in range(max_iterations):\n",
    "            tf_eigvec = [sum(a * b for a, b in zip(row, eigvec)) for row in A]\n",
    "            \n",
    "            norm_tf = sum(a ** 2 for a in tf_eigvec) ** 0.5\n",
    "            eigvec = [a / norm_tf for a in tf_eigvec]\n",
    "            \n",
    "        eigval = sum(a * b for a, b in zip(tf_eigvec, eigvec))\n",
    "        eigenvalues.append(eigval)\n",
    "        eigenvectors.append(eigvec)\n",
    "\n",
    "        eigenval_outer_product = [[a * b for b in eigvec] for a in tf_eigvec]\n",
    "        A = [[A[i][j] - eigenval_outer_product[i][j] for j in range(n)] for i in range(n)]\n",
    "\n",
    "    return eigenvalues, [list(row) for row in zip(*eigenvectors)]"
   ]
  },
  {
   "cell_type": "markdown",
   "metadata": {},
   "source": [
    "**3. Test your functions from a randomly generated $n$ x $n$ matrix.**"
   ]
  },
  {
   "cell_type": "markdown",
   "metadata": {},
   "source": [
    "**Determinant**"
   ]
  },
  {
   "cell_type": "code",
   "execution_count": 20,
   "metadata": {},
   "outputs": [],
   "source": [
    "import numpy as np\n",
    "import random"
   ]
  },
  {
   "cell_type": "code",
   "execution_count": 21,
   "metadata": {},
   "outputs": [
    {
     "name": "stdout",
     "output_type": "stream",
     "text": [
      "Matrix:\n",
      "[[1.18004501 3.17744756 1.4612134  4.83640394 4.28373455 0.42034037\n",
      "  2.99884972 1.31571397]\n",
      " [3.89051567 2.97937012 1.17666241 0.63053113 2.27305108 2.75346586\n",
      "  2.23784435 3.02408488]\n",
      " [1.26527115 0.90390941 0.95739805 0.13032186 2.14514845 3.07664784\n",
      "  0.08472566 4.80935437]\n",
      " [0.42824157 2.17346761 4.29024295 1.12307309 1.97700511 3.67959663\n",
      "  2.36793295 0.20093611]\n",
      " [4.39794302 0.90246019 1.42641402 0.90447575 0.13881159 2.07283436\n",
      "  2.78235829 1.18861262]\n",
      " [4.73342017 3.60044659 3.81446664 1.66419479 1.34361516 4.00081554\n",
      "  4.82542217 1.54235552]\n",
      " [2.42384965 3.3873768  4.78499894 0.74663721 4.25175042 4.83519721\n",
      "  3.14149412 2.24940314]\n",
      " [0.79235157 1.20082855 1.86497454 4.38929937 3.96658369 2.04410286\n",
      "  2.43098578 2.11071699]]\n",
      "\n",
      "FROM CUSTOM DETERMINANT FUNCTION:\n",
      "704.4832289988295\n",
      "\n",
      "NUMPY DETERMINANT:\n",
      "704.483228998828\n"
     ]
    }
   ],
   "source": [
    "A = np.random.random((8, 8)).astype(\"float64\") * 5\n",
    "\n",
    "custom_det = find_det(A.tolist())\n",
    "numpy_det = np.linalg.det(A)\n",
    "\n",
    "print(\"Matrix:\", A, sep=\"\\n\")\n",
    "print(\"\\nFROM CUSTOM DETERMINANT FUNCTION:\", custom_det, sep=\"\\n\")\n",
    "print(\"\\nNUMPY DETERMINANT:\", numpy_det, sep=\"\\n\")"
   ]
  },
  {
   "cell_type": "markdown",
   "metadata": {},
   "source": [
    "**Eigenvalue**"
   ]
  },
  {
   "cell_type": "code",
   "execution_count": 22,
   "metadata": {},
   "outputs": [
    {
     "name": "stdout",
     "output_type": "stream",
     "text": [
      "Matrix:\n",
      "[[1.52042845 2.14694127 1.92231935]\n",
      " [3.82717183 1.74435655 0.54562785]\n",
      " [3.71989452 0.56152641 2.69447952]]\n",
      "\n",
      "FROM CUSTOM EIGEN FUNCTION:\n",
      "[6.13108481 1.86882712 3.73765424]\n",
      "[[ 0.52557245  0.09359571 -0.09359571]\n",
      " [ 0.54027261 -0.72113085  0.72113085]\n",
      " [ 0.6571751  -0.68644748  0.68644748]]\n",
      "\n",
      "FROM NUMPY EIGEN:\n",
      "[ 6.13108481 -1.86882712  1.69700683]\n",
      "[[-0.52557245 -0.64593402 -0.09687837]\n",
      " [-0.54027261  0.61612355 -0.66833215]\n",
      " [-0.6571751   0.45073385  0.73752743]]\n"
     ]
    }
   ],
   "source": [
    "A = np.random.random((3, 3)).astype(\"float64\") * 5\n",
    "\n",
    "np_ev, np_evl = np.linalg.eig(A)\n",
    "m_ev, m_evl = find_eigen(A.tolist())\n",
    "m_ev, m_evl = np.array(m_ev), np.array(m_evl)\n",
    "\n",
    "print(\"Matrix:\", A, sep=\"\\n\")\n",
    "print(\"\\nFROM CUSTOM EIGEN FUNCTION:\", m_ev, m_evl, sep=\"\\n\")\n",
    "print(\"\\nFROM NUMPY EIGEN:\", np_ev, np_evl, sep=\"\\n\")"
   ]
  }
 ],
 "metadata": {
  "kernelspec": {
   "display_name": "Python 3",
   "language": "python",
   "name": "python3"
  },
  "language_info": {
   "codemirror_mode": {
    "name": "ipython",
    "version": 3
   },
   "file_extension": ".py",
   "mimetype": "text/x-python",
   "name": "python",
   "nbconvert_exporter": "python",
   "pygments_lexer": "ipython3",
   "version": "3.11.5"
  }
 },
 "nbformat": 4,
 "nbformat_minor": 2
}
